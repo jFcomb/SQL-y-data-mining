{
 "cells": [
  {
   "cell_type": "markdown",
   "id": "7ab8fc94",
   "metadata": {},
   "source": [
    "# Contenido\n",
    "\n",
    "* [Introducción](#intro)\n",
    "    * [objetivo](#objetive)\n",
    "* [Descripción de datos](#description)\n",
    "    * [Tabla_1](#table_1)\n",
    "    * [Tabla_2](#table_2)\n",
    "    * [Tabla_3](#table_3)\n",
    "        * [Correción de datos](#correction)\n",
    "* [Estudio de comportamiento de preferencia de los clientes](#estudy)\n",
    "    * [Gráfica de empresas de taxis por número de viajes](#grafica_1)\n",
    "    * [Gráfica de barrios por número de viajes finalizados](#grafica_2)\n",
    "* [Prueba de Hipótesis](#hipo)\n",
    "* [Conclusión Final](#final_conclution)"
   ]
  },
  {
   "cell_type": "markdown",
   "id": "9da64d7c",
   "metadata": {},
   "source": [
    "# Introducción <a id= 'intro'></a>"
   ]
  },
  {
   "cell_type": "markdown",
   "id": "4e90e343",
   "metadata": {},
   "source": [
    "Zuber es una empresa nueva que se está incorporando al negocio de los viajes compartidos\n",
    "en la ciudad de  Chicago, USA. Nos ha proporcionada una base de datos de la información que han recolectado sus competencias. Con la finalidad de comprender las preferencias de los pasajeros y el impacto de los\n",
    "factores externos en los viajes.\n"
   ]
  },
  {
   "cell_type": "markdown",
   "id": "e8934fc8",
   "metadata": {},
   "source": [
    "## Objetivo <a id = 'objetive'></a>"
   ]
  },
  {
   "cell_type": "markdown",
   "id": "50b43135",
   "metadata": {},
   "source": [
    "1. Visualizar las preferencias de los pasajeros y el impacto de los factores externos en los viajes(clima)\n",
    "2. Responder a la hipótesis \"La duración promedio de los viajes desde el Loop hasta el Aeropuerto Internacional\n",
    "O'Hare cambia los sábados lluviosos\"\n",
    "\n",
    "Vamos a explorar nuestros datos en búsqueda de valores nulos, errores de tipo o algún otro detalle antes de realizar nuestro análisis exploratorio y responder a nuestra hipótesis."
   ]
  },
  {
   "cell_type": "markdown",
   "id": "1bf5d844",
   "metadata": {},
   "source": [
    "# Descripción de datos"
   ]
  },
  {
   "cell_type": "code",
   "execution_count": 37,
   "id": "5e2e0423",
   "metadata": {},
   "outputs": [],
   "source": [
    "#Librerias\n",
    "import pandas as pd\n",
    "import numpy as np\n",
    "import matplotlib.pyplot as plt\n",
    "import scipy.stats as st"
   ]
  },
  {
   "cell_type": "markdown",
   "id": "07886bac",
   "metadata": {},
   "source": [
    "Importamos las tablas proporcionadas"
   ]
  },
  {
   "cell_type": "code",
   "execution_count": 38,
   "id": "80d8532d",
   "metadata": {},
   "outputs": [],
   "source": [
    "#Importar tablas\n",
    "try:\n",
    "    tabla_1 = pd.read_csv('C:/Users/jfcom/Documents/sprint6_project/datasets/moved_project_sql_result_01.csv')\n",
    "    tabla_2 = pd.read_csv('C:/Users/jfcom/Documents/sprint6_project/datasets/moved_project_sql_result_04.csv')\n",
    "    tabla_3 = pd.read_csv('C:/Users/jfcom/Documents/sprint6_project/datasets/moved_project_sql_result_07.csv')\n",
    "except:\n",
    "    tabla_1 = pd.read_csv('/datasets/moved_project_sql_result_01.csv')\n",
    "    tabla_2 = pd.read_csv('/datasets/moved_project_sql_result_04.csv')\n",
    "    tabla_3 = pd.read_csv('/datasets/moved_project_sql_result_07.csv')"
   ]
  },
  {
   "cell_type": "markdown",
   "id": "c2df49a5",
   "metadata": {},
   "source": [
    "### `Tabla_1`<a id= 'table_1'></a>"
   ]
  },
  {
   "cell_type": "code",
   "execution_count": 39,
   "id": "f7fc48f9",
   "metadata": {},
   "outputs": [
    {
     "name": "stdout",
     "output_type": "stream",
     "text": [
      "<class 'pandas.core.frame.DataFrame'>\n",
      "RangeIndex: 64 entries, 0 to 63\n",
      "Data columns (total 2 columns):\n",
      " #   Column        Non-Null Count  Dtype \n",
      "---  ------        --------------  ----- \n",
      " 0   company_name  64 non-null     object\n",
      " 1   trips_amount  64 non-null     int64 \n",
      "dtypes: int64(1), object(1)\n",
      "memory usage: 1.1+ KB\n"
     ]
    }
   ],
   "source": [
    "tabla_1.info()"
   ]
  },
  {
   "cell_type": "code",
   "execution_count": 40,
   "id": "068ba3d2",
   "metadata": {},
   "outputs": [
    {
     "data": {
      "text/html": [
       "<div>\n",
       "<style scoped>\n",
       "    .dataframe tbody tr th:only-of-type {\n",
       "        vertical-align: middle;\n",
       "    }\n",
       "\n",
       "    .dataframe tbody tr th {\n",
       "        vertical-align: top;\n",
       "    }\n",
       "\n",
       "    .dataframe thead th {\n",
       "        text-align: right;\n",
       "    }\n",
       "</style>\n",
       "<table border=\"1\" class=\"dataframe\">\n",
       "  <thead>\n",
       "    <tr style=\"text-align: right;\">\n",
       "      <th></th>\n",
       "      <th>company_name</th>\n",
       "      <th>trips_amount</th>\n",
       "    </tr>\n",
       "  </thead>\n",
       "  <tbody>\n",
       "    <tr>\n",
       "      <th>0</th>\n",
       "      <td>Flash Cab</td>\n",
       "      <td>19558</td>\n",
       "    </tr>\n",
       "    <tr>\n",
       "      <th>1</th>\n",
       "      <td>Taxi Affiliation Services</td>\n",
       "      <td>11422</td>\n",
       "    </tr>\n",
       "    <tr>\n",
       "      <th>2</th>\n",
       "      <td>Medallion Leasin</td>\n",
       "      <td>10367</td>\n",
       "    </tr>\n",
       "    <tr>\n",
       "      <th>3</th>\n",
       "      <td>Yellow Cab</td>\n",
       "      <td>9888</td>\n",
       "    </tr>\n",
       "    <tr>\n",
       "      <th>4</th>\n",
       "      <td>Taxi Affiliation Service Yellow</td>\n",
       "      <td>9299</td>\n",
       "    </tr>\n",
       "    <tr>\n",
       "      <th>5</th>\n",
       "      <td>Chicago Carriage Cab Corp</td>\n",
       "      <td>9181</td>\n",
       "    </tr>\n",
       "    <tr>\n",
       "      <th>6</th>\n",
       "      <td>City Service</td>\n",
       "      <td>8448</td>\n",
       "    </tr>\n",
       "    <tr>\n",
       "      <th>7</th>\n",
       "      <td>Sun Taxi</td>\n",
       "      <td>7701</td>\n",
       "    </tr>\n",
       "    <tr>\n",
       "      <th>8</th>\n",
       "      <td>Star North Management LLC</td>\n",
       "      <td>7455</td>\n",
       "    </tr>\n",
       "    <tr>\n",
       "      <th>9</th>\n",
       "      <td>Blue Ribbon Taxi Association Inc.</td>\n",
       "      <td>5953</td>\n",
       "    </tr>\n",
       "  </tbody>\n",
       "</table>\n",
       "</div>"
      ],
      "text/plain": [
       "                        company_name  trips_amount\n",
       "0                          Flash Cab         19558\n",
       "1          Taxi Affiliation Services         11422\n",
       "2                   Medallion Leasin         10367\n",
       "3                         Yellow Cab          9888\n",
       "4    Taxi Affiliation Service Yellow          9299\n",
       "5          Chicago Carriage Cab Corp          9181\n",
       "6                       City Service          8448\n",
       "7                           Sun Taxi          7701\n",
       "8          Star North Management LLC          7455\n",
       "9  Blue Ribbon Taxi Association Inc.          5953"
      ]
     },
     "execution_count": 40,
     "metadata": {},
     "output_type": "execute_result"
    }
   ],
   "source": [
    "tabla_1.head(10)"
   ]
  },
  {
   "cell_type": "markdown",
   "id": "22c1799f",
   "metadata": {},
   "source": [
    "Nuestra tabla tiene un total de 64 filas con dos columnas los tipos de datos son correctos y no encontramos valores nulos la descripción de nuestros datos es la siguiente:\n",
    "\n",
    "* `company_name`: nombre de la empresa de taxis\n",
    "* `trips_amount` : el número de viajes de cada compañía de taxis el 15 y 16 de\n",
    "noviembre de 2017."
   ]
  },
  {
   "cell_type": "markdown",
   "id": "b53bc578",
   "metadata": {},
   "source": [
    "### `Tabla_2` <a id = 'table_2'></a>"
   ]
  },
  {
   "cell_type": "code",
   "execution_count": 41,
   "id": "fe5e15d9",
   "metadata": {},
   "outputs": [
    {
     "name": "stdout",
     "output_type": "stream",
     "text": [
      "<class 'pandas.core.frame.DataFrame'>\n",
      "RangeIndex: 94 entries, 0 to 93\n",
      "Data columns (total 2 columns):\n",
      " #   Column                 Non-Null Count  Dtype  \n",
      "---  ------                 --------------  -----  \n",
      " 0   dropoff_location_name  94 non-null     object \n",
      " 1   average_trips          94 non-null     float64\n",
      "dtypes: float64(1), object(1)\n",
      "memory usage: 1.6+ KB\n"
     ]
    }
   ],
   "source": [
    "tabla_2.info()"
   ]
  },
  {
   "cell_type": "code",
   "execution_count": 42,
   "id": "27dade20",
   "metadata": {
    "scrolled": true
   },
   "outputs": [
    {
     "data": {
      "text/html": [
       "<div>\n",
       "<style scoped>\n",
       "    .dataframe tbody tr th:only-of-type {\n",
       "        vertical-align: middle;\n",
       "    }\n",
       "\n",
       "    .dataframe tbody tr th {\n",
       "        vertical-align: top;\n",
       "    }\n",
       "\n",
       "    .dataframe thead th {\n",
       "        text-align: right;\n",
       "    }\n",
       "</style>\n",
       "<table border=\"1\" class=\"dataframe\">\n",
       "  <thead>\n",
       "    <tr style=\"text-align: right;\">\n",
       "      <th></th>\n",
       "      <th>dropoff_location_name</th>\n",
       "      <th>average_trips</th>\n",
       "    </tr>\n",
       "  </thead>\n",
       "  <tbody>\n",
       "    <tr>\n",
       "      <th>0</th>\n",
       "      <td>Loop</td>\n",
       "      <td>10727.466667</td>\n",
       "    </tr>\n",
       "    <tr>\n",
       "      <th>1</th>\n",
       "      <td>River North</td>\n",
       "      <td>9523.666667</td>\n",
       "    </tr>\n",
       "    <tr>\n",
       "      <th>2</th>\n",
       "      <td>Streeterville</td>\n",
       "      <td>6664.666667</td>\n",
       "    </tr>\n",
       "    <tr>\n",
       "      <th>3</th>\n",
       "      <td>West Loop</td>\n",
       "      <td>5163.666667</td>\n",
       "    </tr>\n",
       "    <tr>\n",
       "      <th>4</th>\n",
       "      <td>O'Hare</td>\n",
       "      <td>2546.900000</td>\n",
       "    </tr>\n",
       "    <tr>\n",
       "      <th>5</th>\n",
       "      <td>Lake View</td>\n",
       "      <td>2420.966667</td>\n",
       "    </tr>\n",
       "    <tr>\n",
       "      <th>6</th>\n",
       "      <td>Grant Park</td>\n",
       "      <td>2068.533333</td>\n",
       "    </tr>\n",
       "    <tr>\n",
       "      <th>7</th>\n",
       "      <td>Museum Campus</td>\n",
       "      <td>1510.000000</td>\n",
       "    </tr>\n",
       "    <tr>\n",
       "      <th>8</th>\n",
       "      <td>Gold Coast</td>\n",
       "      <td>1364.233333</td>\n",
       "    </tr>\n",
       "    <tr>\n",
       "      <th>9</th>\n",
       "      <td>Sheffield &amp; DePaul</td>\n",
       "      <td>1259.766667</td>\n",
       "    </tr>\n",
       "  </tbody>\n",
       "</table>\n",
       "</div>"
      ],
      "text/plain": [
       "  dropoff_location_name  average_trips\n",
       "0                  Loop   10727.466667\n",
       "1           River North    9523.666667\n",
       "2         Streeterville    6664.666667\n",
       "3             West Loop    5163.666667\n",
       "4                O'Hare    2546.900000\n",
       "5             Lake View    2420.966667\n",
       "6            Grant Park    2068.533333\n",
       "7         Museum Campus    1510.000000\n",
       "8            Gold Coast    1364.233333\n",
       "9    Sheffield & DePaul    1259.766667"
      ]
     },
     "execution_count": 42,
     "metadata": {},
     "output_type": "execute_result"
    }
   ],
   "source": [
    "tabla_2.head(10)"
   ]
  },
  {
   "cell_type": "markdown",
   "id": "aa119a99",
   "metadata": {},
   "source": [
    "Nuestra tabla tiene un total de 94 filas con dos columnas los tipos de datos son correctos y no encontramos valores nulos la descripción de nuestros datos es la siguiente:\n",
    "\n",
    "* `dropoff_location_name`: barrios de Chicago donde finalizaron los viajes\n",
    "* `average_trips`: el promedio de viajes que terminaron en cada barrio ennoviembre de 2017."
   ]
  },
  {
   "cell_type": "markdown",
   "id": "8e02a41f",
   "metadata": {},
   "source": [
    "### `Tabla_3` <a id = 'table_3'></a>"
   ]
  },
  {
   "cell_type": "code",
   "execution_count": 43,
   "id": "459e8439",
   "metadata": {},
   "outputs": [
    {
     "name": "stdout",
     "output_type": "stream",
     "text": [
      "<class 'pandas.core.frame.DataFrame'>\n",
      "RangeIndex: 1068 entries, 0 to 1067\n",
      "Data columns (total 3 columns):\n",
      " #   Column              Non-Null Count  Dtype  \n",
      "---  ------              --------------  -----  \n",
      " 0   start_ts            1068 non-null   object \n",
      " 1   weather_conditions  1068 non-null   object \n",
      " 2   duration_seconds    1068 non-null   float64\n",
      "dtypes: float64(1), object(2)\n",
      "memory usage: 25.2+ KB\n"
     ]
    }
   ],
   "source": [
    "tabla_3.info()"
   ]
  },
  {
   "cell_type": "code",
   "execution_count": 44,
   "id": "d8a9fa67",
   "metadata": {
    "scrolled": false
   },
   "outputs": [
    {
     "data": {
      "text/html": [
       "<div>\n",
       "<style scoped>\n",
       "    .dataframe tbody tr th:only-of-type {\n",
       "        vertical-align: middle;\n",
       "    }\n",
       "\n",
       "    .dataframe tbody tr th {\n",
       "        vertical-align: top;\n",
       "    }\n",
       "\n",
       "    .dataframe thead th {\n",
       "        text-align: right;\n",
       "    }\n",
       "</style>\n",
       "<table border=\"1\" class=\"dataframe\">\n",
       "  <thead>\n",
       "    <tr style=\"text-align: right;\">\n",
       "      <th></th>\n",
       "      <th>start_ts</th>\n",
       "      <th>weather_conditions</th>\n",
       "      <th>duration_seconds</th>\n",
       "    </tr>\n",
       "  </thead>\n",
       "  <tbody>\n",
       "    <tr>\n",
       "      <th>0</th>\n",
       "      <td>2017-11-25 16:00:00</td>\n",
       "      <td>Good</td>\n",
       "      <td>2410.0</td>\n",
       "    </tr>\n",
       "    <tr>\n",
       "      <th>1</th>\n",
       "      <td>2017-11-25 14:00:00</td>\n",
       "      <td>Good</td>\n",
       "      <td>1920.0</td>\n",
       "    </tr>\n",
       "    <tr>\n",
       "      <th>2</th>\n",
       "      <td>2017-11-25 12:00:00</td>\n",
       "      <td>Good</td>\n",
       "      <td>1543.0</td>\n",
       "    </tr>\n",
       "    <tr>\n",
       "      <th>3</th>\n",
       "      <td>2017-11-04 10:00:00</td>\n",
       "      <td>Good</td>\n",
       "      <td>2512.0</td>\n",
       "    </tr>\n",
       "    <tr>\n",
       "      <th>4</th>\n",
       "      <td>2017-11-11 07:00:00</td>\n",
       "      <td>Good</td>\n",
       "      <td>1440.0</td>\n",
       "    </tr>\n",
       "    <tr>\n",
       "      <th>5</th>\n",
       "      <td>2017-11-11 04:00:00</td>\n",
       "      <td>Good</td>\n",
       "      <td>1320.0</td>\n",
       "    </tr>\n",
       "    <tr>\n",
       "      <th>6</th>\n",
       "      <td>2017-11-04 16:00:00</td>\n",
       "      <td>Bad</td>\n",
       "      <td>2969.0</td>\n",
       "    </tr>\n",
       "    <tr>\n",
       "      <th>7</th>\n",
       "      <td>2017-11-18 11:00:00</td>\n",
       "      <td>Good</td>\n",
       "      <td>2280.0</td>\n",
       "    </tr>\n",
       "    <tr>\n",
       "      <th>8</th>\n",
       "      <td>2017-11-11 14:00:00</td>\n",
       "      <td>Good</td>\n",
       "      <td>2460.0</td>\n",
       "    </tr>\n",
       "    <tr>\n",
       "      <th>9</th>\n",
       "      <td>2017-11-11 12:00:00</td>\n",
       "      <td>Good</td>\n",
       "      <td>2040.0</td>\n",
       "    </tr>\n",
       "  </tbody>\n",
       "</table>\n",
       "</div>"
      ],
      "text/plain": [
       "              start_ts weather_conditions  duration_seconds\n",
       "0  2017-11-25 16:00:00               Good            2410.0\n",
       "1  2017-11-25 14:00:00               Good            1920.0\n",
       "2  2017-11-25 12:00:00               Good            1543.0\n",
       "3  2017-11-04 10:00:00               Good            2512.0\n",
       "4  2017-11-11 07:00:00               Good            1440.0\n",
       "5  2017-11-11 04:00:00               Good            1320.0\n",
       "6  2017-11-04 16:00:00                Bad            2969.0\n",
       "7  2017-11-18 11:00:00               Good            2280.0\n",
       "8  2017-11-11 14:00:00               Good            2460.0\n",
       "9  2017-11-11 12:00:00               Good            2040.0"
      ]
     },
     "execution_count": 44,
     "metadata": {},
     "output_type": "execute_result"
    }
   ],
   "source": [
    "tabla_3.head(10)"
   ]
  },
  {
   "cell_type": "markdown",
   "id": "348d6dd6",
   "metadata": {},
   "source": [
    "Nuestra tabla tiene un total de 1068 filas con tres columnas no encontramos valores nulos y solo nuestrá columna start_ts tenemos que modificar el tipo de tado a datatime la descripción de nuestros datos es la siguiente:\n",
    "\n",
    "* `start_ts`: fecha y hora de la recogida\n",
    "* `weather_conditions`: condiciones climáticas en el momento en el que comenzó el viaje\n",
    "* `duration_seconds`: duración del viaje en segundos"
   ]
  },
  {
   "cell_type": "markdown",
   "id": "798f0e4b",
   "metadata": {},
   "source": [
    "### Correción de datos<a id='correction'></a>"
   ]
  },
  {
   "cell_type": "code",
   "execution_count": 45,
   "id": "f50fb809",
   "metadata": {},
   "outputs": [
    {
     "name": "stdout",
     "output_type": "stream",
     "text": [
      "<class 'pandas.core.frame.DataFrame'>\n",
      "RangeIndex: 1068 entries, 0 to 1067\n",
      "Data columns (total 3 columns):\n",
      " #   Column              Non-Null Count  Dtype         \n",
      "---  ------              --------------  -----         \n",
      " 0   start_ts            1068 non-null   datetime64[ns]\n",
      " 1   weather_conditions  1068 non-null   object        \n",
      " 2   duration_seconds    1068 non-null   float64       \n",
      "dtypes: datetime64[ns](1), float64(1), object(1)\n",
      "memory usage: 25.2+ KB\n"
     ]
    }
   ],
   "source": [
    "#Transdormación de columna start_ts a datetime\n",
    "tabla_3.start_ts=tabla_3.start_ts.astype('datetime64')\n",
    "\n",
    "#Verificamos el cambio\n",
    "tabla_3.info()"
   ]
  },
  {
   "cell_type": "markdown",
   "id": "07eb6b55",
   "metadata": {},
   "source": [
    "# Estudio de comportamiento de preferencia de los clientes<a id= 'study'></a>"
   ]
  },
  {
   "cell_type": "markdown",
   "id": "24fe1e29",
   "metadata": {},
   "source": [
    "Identificaremos los 10 principales empresas en términos de números de viajes\n",
    "y en base a eso graficarémos las empresas de taxis y número de viajes.\n",
    "Tambien identificaremos los 10 barrios principales por número de finalizaciones y realizaremos su gráfica"
   ]
  },
  {
   "cell_type": "markdown",
   "id": "2e4151fe",
   "metadata": {},
   "source": [
    "## Gráfica de empresas de taxis por número de viajes<a id='grafica_1'></a>"
   ]
  },
  {
   "cell_type": "code",
   "execution_count": 39,
   "id": "2bc1090c",
   "metadata": {},
   "outputs": [
    {
     "data": {
      "text/html": [
       "<div>\n",
       "<style scoped>\n",
       "    .dataframe tbody tr th:only-of-type {\n",
       "        vertical-align: middle;\n",
       "    }\n",
       "\n",
       "    .dataframe tbody tr th {\n",
       "        vertical-align: top;\n",
       "    }\n",
       "\n",
       "    .dataframe thead th {\n",
       "        text-align: right;\n",
       "    }\n",
       "</style>\n",
       "<table border=\"1\" class=\"dataframe\">\n",
       "  <thead>\n",
       "    <tr style=\"text-align: right;\">\n",
       "      <th></th>\n",
       "      <th>company_name</th>\n",
       "      <th>trips_amount</th>\n",
       "    </tr>\n",
       "  </thead>\n",
       "  <tbody>\n",
       "    <tr>\n",
       "      <th>0</th>\n",
       "      <td>Flash Cab</td>\n",
       "      <td>19558</td>\n",
       "    </tr>\n",
       "    <tr>\n",
       "      <th>1</th>\n",
       "      <td>Taxi Affiliation Services</td>\n",
       "      <td>11422</td>\n",
       "    </tr>\n",
       "    <tr>\n",
       "      <th>2</th>\n",
       "      <td>Medallion Leasin</td>\n",
       "      <td>10367</td>\n",
       "    </tr>\n",
       "    <tr>\n",
       "      <th>3</th>\n",
       "      <td>Yellow Cab</td>\n",
       "      <td>9888</td>\n",
       "    </tr>\n",
       "    <tr>\n",
       "      <th>4</th>\n",
       "      <td>Taxi Affiliation Service Yellow</td>\n",
       "      <td>9299</td>\n",
       "    </tr>\n",
       "    <tr>\n",
       "      <th>5</th>\n",
       "      <td>Chicago Carriage Cab Corp</td>\n",
       "      <td>9181</td>\n",
       "    </tr>\n",
       "    <tr>\n",
       "      <th>6</th>\n",
       "      <td>City Service</td>\n",
       "      <td>8448</td>\n",
       "    </tr>\n",
       "    <tr>\n",
       "      <th>7</th>\n",
       "      <td>Sun Taxi</td>\n",
       "      <td>7701</td>\n",
       "    </tr>\n",
       "    <tr>\n",
       "      <th>8</th>\n",
       "      <td>Star North Management LLC</td>\n",
       "      <td>7455</td>\n",
       "    </tr>\n",
       "    <tr>\n",
       "      <th>9</th>\n",
       "      <td>Blue Ribbon Taxi Association Inc.</td>\n",
       "      <td>5953</td>\n",
       "    </tr>\n",
       "  </tbody>\n",
       "</table>\n",
       "</div>"
      ],
      "text/plain": [
       "                        company_name  trips_amount\n",
       "0                          Flash Cab         19558\n",
       "1          Taxi Affiliation Services         11422\n",
       "2                   Medallion Leasin         10367\n",
       "3                         Yellow Cab          9888\n",
       "4    Taxi Affiliation Service Yellow          9299\n",
       "5          Chicago Carriage Cab Corp          9181\n",
       "6                       City Service          8448\n",
       "7                           Sun Taxi          7701\n",
       "8          Star North Management LLC          7455\n",
       "9  Blue Ribbon Taxi Association Inc.          5953"
      ]
     },
     "execution_count": 39,
     "metadata": {},
     "output_type": "execute_result"
    }
   ],
   "source": [
    "# Principales empresas de taxis\n",
    "tabla_1.sort_values(by = \"trips_amount\", ascending = False).head(10)"
   ]
  },
  {
   "cell_type": "code",
   "execution_count": 41,
   "id": "b214d129",
   "metadata": {},
   "outputs": [
    {
     "data": {
      "image/png": "[encoded data removed]",
      "text/plain": [
       "<Figure size 700x500 with 1 Axes>"
      ]
     },
     "metadata": {},
     "output_type": "display_data"
    }
   ],
   "source": [
    "#Gráfica de top 10 compañias por  viajes\n",
    "(    tabla_1\n",
    "    .head(10)\n",
    "    .plot(kind = 'bar', \n",
    "          x ='company_name', \n",
    "          title = 'Top 10 company taxis by trips amount', \n",
    "          figsize= (7,5),\n",
    "          grid = True\n",
    "         )\n",
    ")\n",
    "\n",
    "plt.show()"
   ]
  },
  {
   "cell_type": "markdown",
   "id": "d230b009",
   "metadata": {},
   "source": [
    "Observamos una clara preferencia por la compañia de Flash Cab, siendo su competidor más cercano la compañia de Taxi Affiliation Services y la menos popular de nuestro top es la compañia Blue Ribbon que tiene casi 4 veces menos de viajes a comparación de Flash Cab"
   ]
  },
  {
   "cell_type": "markdown",
   "id": "d4de3064",
   "metadata": {},
   "source": [
    "## Gráfica de barrios por número de viajes finalizados]<a id ='grafica_2'></a>"
   ]
  },
  {
   "cell_type": "code",
   "execution_count": 42,
   "id": "0757e4b1",
   "metadata": {},
   "outputs": [
    {
     "data": {
      "text/html": [
       "<div>\n",
       "<style scoped>\n",
       "    .dataframe tbody tr th:only-of-type {\n",
       "        vertical-align: middle;\n",
       "    }\n",
       "\n",
       "    .dataframe tbody tr th {\n",
       "        vertical-align: top;\n",
       "    }\n",
       "\n",
       "    .dataframe thead th {\n",
       "        text-align: right;\n",
       "    }\n",
       "</style>\n",
       "<table border=\"1\" class=\"dataframe\">\n",
       "  <thead>\n",
       "    <tr style=\"text-align: right;\">\n",
       "      <th></th>\n",
       "      <th>dropoff_location_name</th>\n",
       "      <th>average_trips</th>\n",
       "    </tr>\n",
       "  </thead>\n",
       "  <tbody>\n",
       "    <tr>\n",
       "      <th>0</th>\n",
       "      <td>Loop</td>\n",
       "      <td>10727.466667</td>\n",
       "    </tr>\n",
       "    <tr>\n",
       "      <th>1</th>\n",
       "      <td>River North</td>\n",
       "      <td>9523.666667</td>\n",
       "    </tr>\n",
       "    <tr>\n",
       "      <th>2</th>\n",
       "      <td>Streeterville</td>\n",
       "      <td>6664.666667</td>\n",
       "    </tr>\n",
       "    <tr>\n",
       "      <th>3</th>\n",
       "      <td>West Loop</td>\n",
       "      <td>5163.666667</td>\n",
       "    </tr>\n",
       "    <tr>\n",
       "      <th>4</th>\n",
       "      <td>O'Hare</td>\n",
       "      <td>2546.900000</td>\n",
       "    </tr>\n",
       "    <tr>\n",
       "      <th>5</th>\n",
       "      <td>Lake View</td>\n",
       "      <td>2420.966667</td>\n",
       "    </tr>\n",
       "    <tr>\n",
       "      <th>6</th>\n",
       "      <td>Grant Park</td>\n",
       "      <td>2068.533333</td>\n",
       "    </tr>\n",
       "    <tr>\n",
       "      <th>7</th>\n",
       "      <td>Museum Campus</td>\n",
       "      <td>1510.000000</td>\n",
       "    </tr>\n",
       "    <tr>\n",
       "      <th>8</th>\n",
       "      <td>Gold Coast</td>\n",
       "      <td>1364.233333</td>\n",
       "    </tr>\n",
       "    <tr>\n",
       "      <th>9</th>\n",
       "      <td>Sheffield &amp; DePaul</td>\n",
       "      <td>1259.766667</td>\n",
       "    </tr>\n",
       "  </tbody>\n",
       "</table>\n",
       "</div>"
      ],
      "text/plain": [
       "  dropoff_location_name  average_trips\n",
       "0                  Loop   10727.466667\n",
       "1           River North    9523.666667\n",
       "2         Streeterville    6664.666667\n",
       "3             West Loop    5163.666667\n",
       "4                O'Hare    2546.900000\n",
       "5             Lake View    2420.966667\n",
       "6            Grant Park    2068.533333\n",
       "7         Museum Campus    1510.000000\n",
       "8            Gold Coast    1364.233333\n",
       "9    Sheffield & DePaul    1259.766667"
      ]
     },
     "execution_count": 42,
     "metadata": {},
     "output_type": "execute_result"
    }
   ],
   "source": [
    "# Principales Barrios\n",
    "tabla_2.sort_values(by = \"average_trips\", ascending = False).head(10)"
   ]
  },
  {
   "cell_type": "code",
   "execution_count": 43,
   "id": "74140766",
   "metadata": {},
   "outputs": [
    {
     "data": {
      "image/png": "[encoded data removed]",
      "text/plain": [
       "<Figure size 700x500 with 1 Axes>"
      ]
     },
     "metadata": {},
     "output_type": "display_data"
    }
   ],
   "source": [
    "#Gráfica de top 10 barrios por promedio de viajes\n",
    "(\n",
    "    tabla_2\n",
    "    .head(10)\n",
    "    .plot(kind = 'bar', \n",
    "          x ='dropoff_location_name', \n",
    "          title = 'Top 10 dropoff location by average trips', \n",
    "          figsize= (7,5),\n",
    "          grid = True\n",
    "         )\n",
    ")\n",
    "\n",
    "plt.show()"
   ]
  },
  {
   "cell_type": "markdown",
   "id": "08225412",
   "metadata": {},
   "source": [
    "Observamos que de nuestro top 10 los lugares más populares son el barrio de Loop y River North, después de vemos como los viajes van bajando considerablemente para los otros barrios hasta llegar a los barrios de Museum Campus, Gold Coast y Sheffiel & DePaul que tienen valores cercanos"
   ]
  },
  {
   "cell_type": "markdown",
   "id": "f18e1659",
   "metadata": {},
   "source": [
    "# Prueba de Hipótesis<a  id='hipo'></a>"
   ]
  },
  {
   "cell_type": "markdown",
   "id": "3765a3f1",
   "metadata": {},
   "source": [
    "\"La duración promedio de los viajes desde el Loop hasta el Aeropuerto Internacional O'Hare cambia los sábados lluviosos\"\n",
    "\n",
    "Para esta hipotesis nuestra hipótesis nula y alternativa serán las siguientes:\n",
    "\n",
    "$H_0$ = La duración promedio de los viajes desde el Loop hasta el Aeropuerto InternacionalO'Hare es igual los sábados lluviosos\n",
    "\n",
    "$H_1$ = La duración promedio de los viajes desde el Loop hasta el Aeropuerto InternacionalO'Hare son distintos los sábados lluviosos\n",
    "\n",
    "Nuestro valor de significancia será:\n",
    "\n",
    "$\\alpha$ = 0.05\n",
    "\n",
    "Nuestras poblaciones seran:\n",
    "\n",
    "Poblacion 1: Duración promedio de viajes en día no lluviosos\n",
    "\n",
    "Poblacion 2: Duración promedio de viajes en día lluviosos\n",
    "\n",
    "Método a emplear: Hipótesis sobre la igualdad de las medias de dos poblaciones"
   ]
  },
  {
   "cell_type": "code",
   "execution_count": 60,
   "id": "646e0141",
   "metadata": {},
   "outputs": [
    {
     "name": "stdout",
     "output_type": "stream",
     "text": [
      "p-value: 6.738994326108734e-12\n",
      "Rechazamos la hipótesis nula\n"
     ]
    }
   ],
   "source": [
    "# Prueba las hipótesis\n",
    "no_raining_days = tabla_3[tabla_3['weather_conditions'] == 'Good']['duration_seconds'] #Población 1\n",
    "raining_days = tabla_3[tabla_3['weather_conditions'] == 'Bad']['duration_seconds'] #Población 2\n",
    "alpha = 0.05# tu código: establece un nivel crítico de significación estadística\n",
    "\n",
    "#aplicación de método para la obtención del P-value\n",
    "results = st.ttest_ind(raining_days, no_raining_days,equal_var = False)\n",
    "print('p-value:',results.pvalue)\n",
    "\n",
    "if results.pvalue < alpha:\n",
    "    print(\"Rechazamos la hipótesis nula\")\n",
    "else:\n",
    "    print(\"No rechazamos la hipótesis nula\")"
   ]
  },
  {
   "cell_type": "markdown",
   "id": "edbe8535",
   "metadata": {},
   "source": [
    "Al rechazar nuestra hipótesis nula, podemos decir que la duración promedio de los viajes cambia los sábados lluviosos"
   ]
  },
  {
   "cell_type": "markdown",
   "id": "3204b690",
   "metadata": {},
   "source": [
    "# Conclusión Final<a id='final_conclution'></a>"
   ]
  },
  {
   "cell_type": "markdown",
   "id": "93c82fe7",
   "metadata": {},
   "source": [
    "En este trabajo contamos con un total de tres tables las cuales no contenían valores nulos, y solo una tabla tenía el formato inadecuado (columna `start_ts`)\n",
    "\n",
    "Realizamos dos gráficas en donde pudimos observar lo siguiente:\n",
    "1. Vimos una preferencia de los usuarios para utilizar Flash Cab, siendo su competidor más cercano la compañia de Taxi Affiliation Services y la menos popular de nuestro top es la compañia Blue Ribbon que tiene casi 4 veces menos de viajes a comparación de Flash Cab\n",
    "\n",
    "2. Los barrios en donde se dan la mayor cantidad de viajes son los barrios\n",
    "\n",
    "Hipotesis: \"La duración promedio de los viajes desde el Loop hasta el Aeropuerto Internacional O'Hare cambia los sábados lluviosos\"\n",
    "\n",
    "Para nuestra hipótesis utilizamos un nivel de significancia de 0.05 y aplicamos el método de \"hipótesis sobre la igualdad de las medias\" debido a que queremos averiguar si son distintos el promedio de viaje en dísa lluviosos o no, dando como resultado el rechazo de la hipótesis nula, por lo que pudemos confirmar que e distinto el número de viajes en sabados lluviosos de los que o llueve"
   ]
  }
 ],
 "metadata": {
  "kernelspec": {
   "display_name": "Python 3 (ipykernel)",
   "language": "python",
   "name": "python3"
  },
  "language_info": {
   "codemirror_mode": {
    "name": "ipython",
    "version": 3
   },
   "file_extension": ".py",
   "mimetype": "text/x-python",
   "name": "python",
   "nbconvert_exporter": "python",
   "pygments_lexer": "ipython3",
   "version": "3.9.13"
  }
 },
 "nbformat": 4,
 "nbformat_minor": 5
}
